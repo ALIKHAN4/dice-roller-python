{
 "cells": [
  {
   "cell_type": "markdown",
   "id": "96ac1bae",
   "metadata": {},
   "source": [
    "# Dice Roller "
   ]
  },
  {
   "cell_type": "code",
   "execution_count": 125,
   "id": "27af2c62",
   "metadata": {},
   "outputs": [],
   "source": [
    "import random \n",
    "\n",
    "def roll_dice():\n",
    "    \n",
    "    while True:\n",
    "        \n",
    "        print('\\nWelcome to the Dice Rolling Simulator\\n')\n",
    "        \n",
    "        while True:\n",
    "            \n",
    "            try:\n",
    "                n = int(input('How many dice you want to roll? \\n'))\n",
    "                if n != 0:\n",
    "                    print('\\nRolling the Dice....\\n')\n",
    "                    break\n",
    "                else:\n",
    "                    print('Please do not write 0\\n')\n",
    "                    continue\n",
    "            except ValueError:\n",
    "                print('\\nWrite Number only please!\\n')\n",
    "                continue           \n",
    "\n",
    "        for i in range(1,n+1):\n",
    "            print(f'Dice {i}:',random.randint(1,6),)\n",
    "        \n",
    "        while True:\n",
    "            \n",
    "            a = input('\\nDo you want to roll the dice again? \\n')\n",
    "            if (a == 'Yes') or (a == 'No'):\n",
    "                if a == \"Yes\":\n",
    "                    break\n",
    "                else:\n",
    "                    break\n",
    "            else:\n",
    "                print('Please write Yes or No only. ')\n",
    "                \n",
    "        if a == 'No':\n",
    "            print('\\nThankyou for rolling the dice')\n",
    "            break\n",
    "\n"
   ]
  },
  {
   "cell_type": "code",
   "execution_count": 126,
   "id": "10cae1d1",
   "metadata": {},
   "outputs": [
    {
     "name": "stdout",
     "output_type": "stream",
     "text": [
      "\n",
      "Welcome to the Dice Rolling Simulator\n",
      "\n",
      "How many dice you want to roll? \n",
      "dkfjk\n",
      "\n",
      "Write Number only please!\n",
      "\n",
      "How many dice you want to roll? \n",
      "3\n",
      "\n",
      "Rolling the Dice....\n",
      "\n",
      "Dice 1: 2\n",
      "Dice 2: 3\n",
      "Dice 3: 5\n",
      "\n",
      "Do you want to roll the dice again? \n",
      "Yes\n",
      "\n",
      "Welcome to the Dice Rolling Simulator\n",
      "\n",
      "How many dice you want to roll? \n",
      "3\n",
      "\n",
      "Rolling the Dice....\n",
      "\n",
      "Dice 1: 4\n",
      "Dice 2: 1\n",
      "Dice 3: 5\n",
      "\n",
      "Do you want to roll the dice again? \n",
      "dkfjdkfj\n",
      "Please write Yes or No only. \n",
      "\n",
      "Do you want to roll the dice again? \n",
      "No\n",
      "\n",
      "Thankyou for rolling the dice\n"
     ]
    }
   ],
   "source": [
    "roll_dice()"
   ]
  },
  {
   "cell_type": "code",
   "execution_count": 22,
   "id": "ffd4a5f4",
   "metadata": {},
   "outputs": [
    {
     "data": {
      "text/plain": [
       "6"
      ]
     },
     "execution_count": 22,
     "metadata": {},
     "output_type": "execute_result"
    }
   ],
   "source": []
  },
  {
   "cell_type": "code",
   "execution_count": null,
   "id": "bb638dc6",
   "metadata": {},
   "outputs": [],
   "source": []
  }
 ],
 "metadata": {
  "kernelspec": {
   "display_name": "Python 3 (ipykernel)",
   "language": "python",
   "name": "python3"
  },
  "language_info": {
   "codemirror_mode": {
    "name": "ipython",
    "version": 3
   },
   "file_extension": ".py",
   "mimetype": "text/x-python",
   "name": "python",
   "nbconvert_exporter": "python",
   "pygments_lexer": "ipython3",
   "version": "3.9.13"
  }
 },
 "nbformat": 4,
 "nbformat_minor": 5
}
